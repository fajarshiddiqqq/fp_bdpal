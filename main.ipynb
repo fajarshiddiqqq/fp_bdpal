{
 "cells": [
  {
   "cell_type": "code",
   "execution_count": 2,
   "metadata": {},
   "outputs": [
    {
     "name": "stderr",
     "output_type": "stream",
     "text": [
      "24/01/07 16:21:25 WARN Utils: Your hostname, fajarshiddiqqq resolves to a loopback address: 127.0.1.1; using 192.168.1.10 instead (on interface wlp3s0)\n",
      "24/01/07 16:21:25 WARN Utils: Set SPARK_LOCAL_IP if you need to bind to another address\n",
      "Setting default log level to \"WARN\".\n",
      "To adjust logging level use sc.setLogLevel(newLevel). For SparkR, use setLogLevel(newLevel).\n",
      "24/01/07 16:21:26 WARN NativeCodeLoader: Unable to load native-hadoop library for your platform... using builtin-java classes where applicable\n"
     ]
    },
    {
     "name": "stdout",
     "output_type": "stream",
     "text": [
      "+------------------+----------------+---+--------------------+---+----+---------------+\n",
      "|              Name|Class_or_Program|Age|             Country| IQ|CGPA|          Skill|\n",
      "+------------------+----------------+---+--------------------+---+----+---------------+\n",
      "|    Catherine Owen|            Arts| 21|               Tonga|105|3.18|  Communication|\n",
      "|    Melissa Wright|            10th| 24|United Arab Emirates|102|2.72|     Leadership|\n",
      "|        Laura Shaw|            12th| 18|Slovakia (Slovak ...|136| 3.4|  Communication|\n",
      "|   Rodney Cummings|            10th| 17|            Barbados| 83|2.49|Problem-solving|\n",
      "|     Barbara Hicks|            12th| 25|              Canada|129|2.39|  Communication|\n",
      "|      Gerald Young|            Arts| 17|              Tuvalu|108|2.41|  Communication|\n",
      "|      Andrea Hayes|            11th| 19|              France| 92|3.56|     Leadership|\n",
      "|      Darrell Page|         Science| 23|                Togo|123|2.98|  Communication|\n",
      "|      John Jenkins|            12th| 23|           Greenland|150|3.59|     Creativity|\n",
      "|     Haley Johnson|            10th| 23|          Kazakhstan|139|3.79|  Communication|\n",
      "|  Tiffany Mckinney|            12th| 20|French Southern T...|143|2.04|Problem-solving|\n",
      "|Michelle Mccormick|            10th| 16|             Bahrain| 92| 2.6|     Creativity|\n",
      "|     Daniel Garcia|            11th| 17|           Swaziland|134|2.07|     Leadership|\n",
      "|    Gregory Wilson|        Commerce| 19|               Macao|122| 2.2|Problem-solving|\n",
      "|      Ryan Jackson|            12th| 18|             Croatia|137|3.66|     Leadership|\n",
      "|       Carrie Chen|            10th| 22|             Tokelau| 90|2.39|  Communication|\n",
      "|       Scott Marsh|            11th| 25|              Tuvalu|137|2.42|Problem-solving|\n",
      "|       Ryan Garner|            12th| 18|             Bahrain|103| 2.1|  Communication|\n",
      "|     Teresa Palmer|            11th| 17|             Belgium|133|2.63|Problem-solving|\n",
      "|   Bryce Stevenson|            10th| 16|            Barbados|144|2.17|  Communication|\n",
      "+------------------+----------------+---+--------------------+---+----+---------------+\n",
      "only showing top 20 rows\n",
      "\n"
     ]
    }
   ],
   "source": [
    "from pyspark.sql import SparkSession\n",
    "\n",
    "spark = SparkSession.builder.appName(\"BDPAL\").getOrCreate()\n",
    "df = spark.read.csv(\"./data/student_data.csv\", header=True, inferSchema=True)\n",
    "df.show()"
   ]
  },
  {
   "cell_type": "code",
   "execution_count": 3,
   "metadata": {},
   "outputs": [
    {
     "name": "stdout",
     "output_type": "stream",
     "text": [
      "root\n",
      " |-- Name: string (nullable = true)\n",
      " |-- Class_or_Program: string (nullable = true)\n",
      " |-- Age: integer (nullable = true)\n",
      " |-- Country: string (nullable = true)\n",
      " |-- IQ: integer (nullable = true)\n",
      " |-- CGPA: double (nullable = true)\n",
      " |-- Skill: string (nullable = true)\n",
      "\n"
     ]
    }
   ],
   "source": [
    "df.printSchema()"
   ]
  },
  {
   "cell_type": "code",
   "execution_count": 4,
   "metadata": {},
   "outputs": [
    {
     "name": "stderr",
     "output_type": "stream",
     "text": [
      "[Stage 3:>                                                          (0 + 1) / 1]\r"
     ]
    },
    {
     "name": "stdout",
     "output_type": "stream",
     "text": [
      "+----+----------------+---+-------+---+----+-----+\n",
      "|Name|Class_or_Program|Age|Country| IQ|CGPA|Skill|\n",
      "+----+----------------+---+-------+---+----+-----+\n",
      "|   0|               0|  0|      0|  0|   0|    0|\n",
      "+----+----------------+---+-------+---+----+-----+\n",
      "\n"
     ]
    },
    {
     "name": "stderr",
     "output_type": "stream",
     "text": [
      "                                                                                \r"
     ]
    }
   ],
   "source": [
    "from pyspark.sql.functions import isnan, when, count, col\n",
    "\n",
    "df.select([count(when(isnan(c) | col(c).isNull(), c)).alias(c) for c in df.columns]).show()"
   ]
  },
  {
   "cell_type": "code",
   "execution_count": 5,
   "metadata": {},
   "outputs": [
    {
     "name": "stdout",
     "output_type": "stream",
     "text": [
      "+----------------+-----+\n",
      "|Class_or_Program|count|\n",
      "+----------------+-----+\n",
      "|            10th| 8502|\n",
      "|         Science| 8300|\n",
      "|        Commerce| 8240|\n",
      "|            11th| 8355|\n",
      "|            Arts| 8201|\n",
      "|            12th| 8402|\n",
      "+----------------+-----+\n",
      "\n"
     ]
    }
   ],
   "source": [
    "df.groupBy(\"Class_or_Program\").count().show()"
   ]
  },
  {
   "cell_type": "code",
   "execution_count": 6,
   "metadata": {},
   "outputs": [
    {
     "name": "stdout",
     "output_type": "stream",
     "text": [
      "50000\n",
      "50000\n"
     ]
    }
   ],
   "source": [
    "print(df.count())\n",
    "print(df.distinct().count())"
   ]
  },
  {
   "cell_type": "code",
   "execution_count": 7,
   "metadata": {},
   "outputs": [
    {
     "name": "stdout",
     "output_type": "stream",
     "text": [
      "+------------------+----------------+---+--------------------+---+----+---------------+------------+----------+----------+\n",
      "|              Name|Class_or_Program|Age|             Country| IQ|CGPA|          Skill|CountryIndex|ClassIndex|SkillIndex|\n",
      "+------------------+----------------+---+--------------------+---+----+---------------+------------+----------+----------+\n",
      "|    Catherine Owen|            Arts| 21|               Tonga|105|3.18|  Communication|       184.0|       5.0|       0.0|\n",
      "|    Melissa Wright|            10th| 24|United Arab Emirates|102|2.72|     Leadership|        46.0|       0.0|       1.0|\n",
      "|        Laura Shaw|            12th| 18|Slovakia (Slovak ...|136| 3.4|  Communication|       153.0|       1.0|       0.0|\n",
      "|   Rodney Cummings|            10th| 17|            Barbados| 83|2.49|Problem-solving|        60.0|       0.0|       2.0|\n",
      "|     Barbara Hicks|            12th| 25|              Canada|129|2.39|  Communication|       121.0|       1.0|       0.0|\n",
      "|      Gerald Young|            Arts| 17|              Tuvalu|108|2.41|  Communication|       210.0|       5.0|       0.0|\n",
      "|      Andrea Hayes|            11th| 19|              France| 92|3.56|     Leadership|        98.0|       2.0|       1.0|\n",
      "|      Darrell Page|         Science| 23|                Togo|123|2.98|  Communication|        82.0|       3.0|       0.0|\n",
      "|      John Jenkins|            12th| 23|           Greenland|150|3.59|     Creativity|       109.0|       1.0|       3.0|\n",
      "|     Haley Johnson|            10th| 23|          Kazakhstan|139|3.79|  Communication|       110.0|       0.0|       0.0|\n",
      "|  Tiffany Mckinney|            12th| 20|French Southern T...|143|2.04|Problem-solving|       234.0|       1.0|       2.0|\n",
      "|Michelle Mccormick|            10th| 16|             Bahrain| 92| 2.6|     Creativity|       105.0|       0.0|       3.0|\n",
      "|     Daniel Garcia|            11th| 17|           Swaziland|134|2.07|     Leadership|        49.0|       2.0|       1.0|\n",
      "|    Gregory Wilson|        Commerce| 19|               Macao|122| 2.2|Problem-solving|       145.0|       4.0|       2.0|\n",
      "|      Ryan Jackson|            12th| 18|             Croatia|137|3.66|     Leadership|       176.0|       1.0|       1.0|\n",
      "|       Carrie Chen|            10th| 22|             Tokelau| 90|2.39|  Communication|        25.0|       0.0|       0.0|\n",
      "|       Scott Marsh|            11th| 25|              Tuvalu|137|2.42|Problem-solving|       210.0|       2.0|       2.0|\n",
      "|       Ryan Garner|            12th| 18|             Bahrain|103| 2.1|  Communication|       105.0|       1.0|       0.0|\n",
      "|     Teresa Palmer|            11th| 17|             Belgium|133|2.63|Problem-solving|       216.0|       2.0|       2.0|\n",
      "|   Bryce Stevenson|            10th| 16|            Barbados|144|2.17|  Communication|        60.0|       0.0|       0.0|\n",
      "+------------------+----------------+---+--------------------+---+----+---------------+------------+----------+----------+\n",
      "only showing top 20 rows\n",
      "\n"
     ]
    }
   ],
   "source": [
    "from pyspark.ml.feature import StringIndexer\n",
    "from pyspark.ml import Pipeline\n",
    "\n",
    "countryIndexer = StringIndexer(inputCol=\"Country\", outputCol=\"CountryIndex\")\n",
    "classIndexer = StringIndexer(inputCol=\"Class_or_Program\", outputCol=\"ClassIndex\")\n",
    "SkillIndexer = StringIndexer(inputCol=\"Skill\", outputCol=\"SkillIndex\")\n",
    "\n",
    "pipeline = Pipeline(stages=[countryIndexer, classIndexer, SkillIndexer])\n",
    "df = pipeline.fit(df).transform(df)\n",
    "df.show()"
   ]
  },
  {
   "cell_type": "code",
   "execution_count": 8,
   "metadata": {},
   "outputs": [
    {
     "name": "stdout",
     "output_type": "stream",
     "text": [
      "+---------------+----------+\n",
      "|          Skill|SkillIndex|\n",
      "+---------------+----------+\n",
      "|  Communication|       0.0|\n",
      "|     Leadership|       1.0|\n",
      "|Problem-solving|       2.0|\n",
      "|     Creativity|       3.0|\n",
      "+---------------+----------+\n",
      "\n"
     ]
    }
   ],
   "source": [
    "df.select(\"Skill\", \"SkillIndex\").distinct().orderBy(\"SkillIndex\").show()"
   ]
  },
  {
   "cell_type": "code",
   "execution_count": 9,
   "metadata": {},
   "outputs": [
    {
     "name": "stdout",
     "output_type": "stream",
     "text": [
      "+---------------+-----+\n",
      "|          Skill|count|\n",
      "+---------------+-----+\n",
      "|Problem-solving|12499|\n",
      "|     Creativity|12374|\n",
      "|     Leadership|12537|\n",
      "|  Communication|12590|\n",
      "+---------------+-----+\n",
      "\n"
     ]
    }
   ],
   "source": [
    "df.groupBy(\"Skill\").count().show()"
   ]
  },
  {
   "cell_type": "code",
   "execution_count": 10,
   "metadata": {},
   "outputs": [],
   "source": [
    "feature_columns = [\"CountryIndex\", \"ClassIndex\", \"IQ\", \"CGPA\", \"Age\"]\n",
    "target_column = \"SkillIndex\""
   ]
  },
  {
   "cell_type": "code",
   "execution_count": 11,
   "metadata": {},
   "outputs": [
    {
     "name": "stdout",
     "output_type": "stream",
     "text": [
      "Correlation between Skill and CountryIndex = -0.008673814204687382\n",
      "Correlation between Skill and ClassIndex = 0.004493756084668397\n",
      "Correlation between Skill and IQ = 0.0020113617929390336\n",
      "Correlation between Skill and CGPA = -0.00223698324708866\n",
      "Correlation between Skill and Age = -0.0018222632618601511\n"
     ]
    }
   ],
   "source": [
    "for col in feature_columns:\n",
    "    print(\"Correlation between Skill and {} = {}\".format(col, df.stat.corr(target_column, col)))"
   ]
  },
  {
   "cell_type": "code",
   "execution_count": 12,
   "metadata": {},
   "outputs": [],
   "source": [
    "from pyspark.ml.feature import VectorAssembler\n",
    "\n",
    "df_selected = df.select(*feature_columns, target_column)\n",
    "assembler = VectorAssembler(inputCols=feature_columns, outputCol=\"features\")\n",
    "\n",
    "df_transformed = assembler.transform(df_selected)\n",
    "df_final = df_transformed.select(\"features\", target_column)"
   ]
  },
  {
   "cell_type": "code",
   "execution_count": 13,
   "metadata": {},
   "outputs": [],
   "source": [
    "train_data, test_data = df_final.randomSplit([0.7, 0.3])"
   ]
  },
  {
   "cell_type": "code",
   "execution_count": 14,
   "metadata": {},
   "outputs": [
    {
     "name": "stdout",
     "output_type": "stream",
     "text": [
      "+--------------------+----------+\n",
      "|            features|SkillIndex|\n",
      "+--------------------+----------+\n",
      "|[0.0,0.0,80.0,3.3...|       3.0|\n",
      "|[0.0,0.0,84.0,2.2...|       3.0|\n",
      "|[0.0,0.0,86.0,3.2...|       3.0|\n",
      "|[0.0,0.0,88.0,2.5...|       0.0|\n",
      "|[0.0,0.0,88.0,2.5...|       0.0|\n",
      "+--------------------+----------+\n",
      "only showing top 5 rows\n",
      "\n"
     ]
    }
   ],
   "source": [
    "train_data.show(5)"
   ]
  },
  {
   "cell_type": "code",
   "execution_count": 15,
   "metadata": {},
   "outputs": [],
   "source": [
    "from pyspark.ml.evaluation import MulticlassClassificationEvaluator\n",
    "\n",
    "evaluator = MulticlassClassificationEvaluator(labelCol=\"SkillIndex\", predictionCol=\"prediction\", metricName=\"accuracy\")\n",
    "results = []"
   ]
  },
  {
   "cell_type": "code",
   "execution_count": 115,
   "metadata": {},
   "outputs": [
    {
     "name": "stdout",
     "output_type": "stream",
     "text": [
      "Accuracy: 0.25136867405528107\n"
     ]
    }
   ],
   "source": [
    "from pyspark.ml.classification import DecisionTreeClassifier\n",
    "\n",
    "dt = DecisionTreeClassifier(labelCol=\"SkillIndex\", featuresCol=\"features\", maxDepth=5, impurity=\"gini\", maxBins=250)\n",
    "dt_model = dt.fit(train_data)\n",
    "dt_predictions = dt_model.transform(test_data)\n",
    "\n",
    "accuracy = evaluator.evaluate(dt_predictions, {evaluator.metricName: \"accuracy\"})\n",
    "results.append([\"Decision Tree\", accuracy])\n",
    "print(f\"Accuracy: {accuracy}\")"
   ]
  },
  {
   "cell_type": "code",
   "execution_count": 116,
   "metadata": {},
   "outputs": [
    {
     "name": "stderr",
     "output_type": "stream",
     "text": [
      "24/01/07 13:56:36 WARN DAGScheduler: Broadcasting large task binary with size 1093.4 KiB\n",
      "[Stage 6393:>                                                       (0 + 1) / 1]\r"
     ]
    },
    {
     "name": "stdout",
     "output_type": "stream",
     "text": [
      "Accuracy: 0.25150220323140604\n"
     ]
    },
    {
     "name": "stderr",
     "output_type": "stream",
     "text": [
      "                                                                                \r"
     ]
    }
   ],
   "source": [
    "from pyspark.ml.classification import RandomForestClassifier\n",
    "\n",
    "rf = RandomForestClassifier(labelCol=\"SkillIndex\", featuresCol=\"features\", numTrees=100, maxBins=250)\n",
    "rf_model = rf.fit(train_data)\n",
    "rf_predictions = rf_model.transform(test_data)\n",
    "\n",
    "accuracy = evaluator.evaluate(rf_predictions, {evaluator.metricName: \"accuracy\"})\n",
    "results.append([\"Random Forest\", accuracy])\n",
    "print(f\"Accuracy: {accuracy}\")\n"
   ]
  },
  {
   "cell_type": "code",
   "execution_count": 117,
   "metadata": {},
   "outputs": [
    {
     "name": "stdout",
     "output_type": "stream",
     "text": [
      "Accuracy: 0.25143543864334356\n"
     ]
    }
   ],
   "source": [
    "from pyspark.ml.classification import LogisticRegression\n",
    "\n",
    "lr = LogisticRegression(labelCol=\"SkillIndex\", featuresCol=\"features\", maxIter=10)\n",
    "lr_model = lr.fit(train_data)\n",
    "lr_predictions = lr_model.transform(test_data)\n",
    "\n",
    "accuracy = evaluator.evaluate(lr_predictions, {evaluator.metricName: \"accuracy\"})\n",
    "results.append([\"Logistic Regression\", accuracy])\n",
    "print(f\"Accuracy: {accuracy}\")"
   ]
  },
  {
   "cell_type": "code",
   "execution_count": 16,
   "metadata": {},
   "outputs": [
    {
     "name": "stderr",
     "output_type": "stream",
     "text": [
      "[Stage 53:>                                                         (0 + 1) / 1]\r"
     ]
    },
    {
     "name": "stdout",
     "output_type": "stream",
     "text": [
      "Accuracy: 0.2531350053361793\n"
     ]
    },
    {
     "name": "stderr",
     "output_type": "stream",
     "text": [
      "                                                                                \r"
     ]
    }
   ],
   "source": [
    "from pyspark.ml.classification import NaiveBayes\n",
    "\n",
    "nb = NaiveBayes(labelCol=\"SkillIndex\", featuresCol=\"features\")\n",
    "nb_model = nb.fit(train_data)\n",
    "nb_predictions = nb_model.transform(test_data)\n",
    "\n",
    "accuracy = evaluator.evaluate(nb_predictions, {evaluator.metricName: \"accuracy\"})\n",
    "results.append([\"Naive Bayes\", accuracy])\n",
    "print(f\"Accuracy: {accuracy}\")"
   ]
  },
  {
   "cell_type": "code",
   "execution_count": 119,
   "metadata": {},
   "outputs": [
    {
     "name": "stdout",
     "output_type": "stream",
     "text": [
      "+-------------------+-------------------+\n",
      "|              Model|           Accuracy|\n",
      "+-------------------+-------------------+\n",
      "|        Naive Bayes|0.25423955134196824|\n",
      "|      Random Forest|0.25150220323140604|\n",
      "|Logistic Regression|0.25143543864334356|\n",
      "|      Decision Tree|0.25136867405528107|\n",
      "+-------------------+-------------------+\n",
      "\n"
     ]
    }
   ],
   "source": [
    "results_df = spark.createDataFrame(results, [\"Model\", \"Accuracy\"])\n",
    "results_df.orderBy(\"Accuracy\", ascending=False).show()"
   ]
  },
  {
   "cell_type": "code",
   "execution_count": 17,
   "metadata": {},
   "outputs": [
    {
     "data": {
      "image/png": "[encoded data removed]",
      "text/plain": [
       "<Figure size 1000x1000 with 2 Axes>"
      ]
     },
     "metadata": {},
     "output_type": "display_data"
    }
   ],
   "source": [
    "from sklearn.metrics import confusion_matrix\n",
    "import matplotlib.pyplot as plt\n",
    "import seaborn as sns\n",
    "\n",
    "y_true = test_data.select(\"SkillIndex\").toPandas()\n",
    "y_pred = nb_predictions.select(\"prediction\").toPandas()\n",
    "cm = confusion_matrix(y_true, y_pred)\n",
    "\n",
    "plt.figure(figsize=(10, 10))\n",
    "sns.heatmap(cm, annot=True, fmt=\".3f\", linewidths=.5, square=True, cmap=\"Blues_r\")\n",
    "plt.ylabel(\"Actual label\")\n",
    "plt.xlabel(\"Predicted label\")\n",
    "plt.show()\n"
   ]
  },
  {
   "cell_type": "code",
   "execution_count": 18,
   "metadata": {},
   "outputs": [
    {
     "name": "stdout",
     "output_type": "stream",
     "text": [
      "[[1825 1610  283   57]\n",
      " [1880 1673  248   43]\n",
      " [1829 1590  260   40]\n",
      " [1745 1582  290   37]]\n"
     ]
    }
   ],
   "source": [
    "print(cm)"
   ]
  },
  {
   "cell_type": "code",
   "execution_count": 132,
   "metadata": {},
   "outputs": [
    {
     "name": "stdout",
     "output_type": "stream",
     "text": [
      "Best smoothing:  0.0\n"
     ]
    }
   ],
   "source": [
    "from pyspark.ml.tuning import ParamGridBuilder, CrossValidator\n",
    "\n",
    "paramGrid = (ParamGridBuilder()\n",
    "             .addGrid(nb.smoothing, [0.0, 0.2, 0.4, 0.6, 0.8, 1.0])\n",
    "             .build())\n",
    "\n",
    "cv = CrossValidator(estimator=nb, estimatorParamMaps=paramGrid, evaluator=evaluator, numFolds=5)\n",
    "cv_model = cv.fit(train_data)\n",
    "best_model = cv_model.bestModel\n",
    "print(f\"Best smoothing: \", best_model._java_obj.getSmoothing())\n"
   ]
  },
  {
   "cell_type": "code",
   "execution_count": 134,
   "metadata": {},
   "outputs": [
    {
     "name": "stdout",
     "output_type": "stream",
     "text": [
      "Accuracy before tuning: 0.25423955134196824\n",
      "Accuracy after tuning: 0.25423955134196824\n",
      "Accuracy improvement: 0.0\n"
     ]
    }
   ],
   "source": [
    "accuracy_before = results_df.filter(results_df.Model == \"Naive Bayes\").select('Accuracy').first()[0]\n",
    "print(f\"Accuracy before tuning: {accuracy_before}\")\n",
    "\n",
    "cv_predictions = best_model.transform(test_data)\n",
    "accuracy_after = evaluator.evaluate(cv_predictions)\n",
    "print(f\"Accuracy after tuning: {accuracy_after}\")\n",
    "\n",
    "diff = accuracy_after - accuracy_before\n",
    "print(f\"Accuracy improvement: {diff}\")"
   ]
  }
 ],
 "metadata": {
  "kernelspec": {
   "display_name": "bdpal",
   "language": "python",
   "name": "python3"
  },
  "language_info": {
   "codemirror_mode": {
    "name": "ipython",
    "version": 3
   },
   "file_extension": ".py",
   "mimetype": "text/x-python",
   "name": "python",
   "nbconvert_exporter": "python",
   "pygments_lexer": "ipython3",
   "version": "3.8.18"
  }
 },
 "nbformat": 4,
 "nbformat_minor": 2
}
